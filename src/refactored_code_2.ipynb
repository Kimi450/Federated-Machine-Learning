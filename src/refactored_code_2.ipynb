{
 "cells": [
  {
   "cell_type": "code",
   "execution_count": 1,
   "metadata": {},
   "outputs": [],
   "source": [
    "import time\n",
    "import numpy as np\n",
    "import tensorflow as tf\n",
    "import pandas as pd\n",
    "\n",
    "\n",
    "from user import User\n",
    "from average import Average\n",
    "from tensorflow import keras\n",
    "from sklearn.model_selection import train_test_split\n",
    "\n",
    "from graphing import *\n",
    "from file_related import *\n",
    "\n",
    "SEED = 0\n",
    "\n",
    "# import os\n",
    "# os.environ['PYTHONHASHSEED']=str(SEED)\n",
    "# np.random.seed(SEED)\n",
    "# import random\n",
    "# random.seed(SEED)\n",
    "# tf.set_random_seed(SEED)\n",
    "# could need to force keras to not use parallelism, see documentation\n",
    "\n",
    "%load_ext autoreload\n",
    "%autoreload 2\n",
    "%matplotlib inline"
   ]
  },
  {
   "cell_type": "code",
   "execution_count": 34,
   "metadata": {},
   "outputs": [],
   "source": [
    "\n",
    "def split_dataframe(df, for_user = None, val_size = 0.25, test_size =  0.01, seed = None):\n",
    "    \"\"\"\n",
    "    split the dataframe into train, validation and test splits based on the same seed\n",
    "    Empty dataframes if no data present\n",
    "    \"\"\"\n",
    "    # split into train, validation and test data using sklearn and return dfs for each\n",
    "    if for_user!=None:\n",
    "        df = df[df[\"User\"] == for_user]\n",
    "    if df.shape[0] == 0:\n",
    "        # if no data for the user, then return 9 empty dfs as per the api\n",
    "        # print(f\"Dataframe for user {user} is of shape {df.shape}, no data. Skipping...\")\n",
    "        df = pd.DataFrame()\n",
    "        return (df for _ in range(9))\n",
    "    df_train, df_test = train_test_split(df,\n",
    "                                         test_size = test_size,\n",
    "                                         random_state = seed)\n",
    "\n",
    "    df_train, df_val  = train_test_split(df_train,\n",
    "                                         test_size = val_size,\n",
    "                                         random_state = seed)\n",
    "\n",
    "    # store class and user information (in order)\n",
    "    df_val_class, df_train_class, df_test_class = df_val[\"Class\"], df_train[\"Class\"], df_test[\"Class\"]\n",
    "    df_val_user,  df_train_user,  df_test_user  = df_val[\"User\"],  df_train[\"User\"],  df_test[\"User\"]\n",
    "\n",
    "    # drop the class and user identifier columns from data frame\n",
    "    df_val   = df_val.  drop(df_train.columns[[0,1]], axis=1)\n",
    "    df_train = df_train.drop(df_train.columns[[0,1]], axis=1)\n",
    "    df_test  = df_test. drop(df_test. columns[[0,1]], axis=1)\n",
    "\n",
    "    return df_val, df_val_class,  df_val_user,\\\n",
    "        df_test, df_test_class, df_test_user, \\\n",
    "        df_train, df_train_class, df_train_user"
   ]
  },
  {
   "cell_type": "code",
   "execution_count": 3,
   "metadata": {},
   "outputs": [],
   "source": [
    "def init_model(init_seed=None):\n",
    "    \"\"\"\n",
    "    initialise and return a model \n",
    "    \"\"\"\n",
    "    model = keras.Sequential([\n",
    "        keras.layers.Flatten(),\n",
    "#         keras.layers.Dense(4096, activation='relu',\n",
    "#             kernel_initializer=keras.initializers.glorot_uniform(seed=init_seed)),\n",
    "#         keras.layers.Dense(1024, activation='relu',\n",
    "#             kernel_initializer=keras.initializers.glorot_uniform(seed=init_seed)),\n",
    "#         keras.layers.Dense(128, activation='relu',\n",
    "#             kernel_initializer=keras.initializers.glorot_uniform(seed=init_seed)),\n",
    "        keras.layers.Dense(32, activation='relu',\n",
    "            kernel_initializer=keras.initializers.glorot_uniform(seed=init_seed)),\n",
    "        keras.layers.Dense(6, activation='softmax',\n",
    "            kernel_initializer=keras.initializers.glorot_uniform(seed=init_seed))\n",
    "    ])\n",
    "\n",
    "    model.compile(\n",
    "        optimizer = 'adam',\n",
    "        loss = 'sparse_categorical_crossentropy',\n",
    "        metrics = [tf.keras.metrics.SparseCategoricalAccuracy()]\n",
    "    )\n",
    "\n",
    "    return model\n",
    "\n",
    "\n",
    "def init_users(df, averaging_methods, averaging_metric = \"accuracy\", seed = None):\n",
    "    \"\"\"\n",
    "    Requires the DF to contain a \"User\" column giving numeric identity to a user\n",
    "    0 to unique_user_count-1\n",
    "    \n",
    "    Averaging method is a list of methods out of which a random one is selected\n",
    "    \n",
    "    initialise users based on dataframe given and assign random averaging method\n",
    "    to them based on the list passed in.\n",
    "    returns a dictionary of users(key: user object) and a global user object\n",
    "    \"\"\"    \n",
    "    print(\"Initialising User instances...\")\n",
    "    users = dict()\n",
    "    num_users = df[\"User\"].nunique()\n",
    "\n",
    "    for user_id in range(-1,num_users):\n",
    "\n",
    "        i = user_id # for global user to get all the data\n",
    "\n",
    "        if user_id < 0: # for global user with id -1\n",
    "            user_id = None\n",
    "\n",
    "        df_val, df_val_class,  df_val_user,\\\n",
    "        df_test, df_test_class, df_test_user,\\\n",
    "        df_train, df_train_class, df_train_user = split_dataframe(df = df, \n",
    "                                                                  for_user=user_id, \n",
    "                                                                  seed = seed)\n",
    "        user_id = i\n",
    "        if df_train.shape[0]==0:\n",
    "            print(f\"User {user_id} has no data, no instance created...\")\n",
    "            continue\n",
    "\n",
    "        model = init_model(init_seed = seed)\n",
    "        \n",
    "        option = np.random.RandomState(seed).randint(0,len(averaging_methods))\n",
    "\n",
    "        users[user_id] = User(user_id=user_id,\n",
    "                          model = model,\n",
    "                          averaging_method = averaging_methods[option],\n",
    "                          averaging_metric = averaging_metric,\n",
    "                          train_class = df_train_class,\n",
    "                          train_data = df_train,\n",
    "                          val_class = df_val_class,\n",
    "                          val_data = df_val,\n",
    "                          test_class = df_test_class,\n",
    "                          test_data = df_test)\n",
    "\n",
    "    global_user = users.pop(-1)\n",
    "    global_user.set_averaging_method(averaging_methods[0])\n",
    "    print(f\"{len(users.keys())} User instances and a global user created!\")\n",
    "    return users, global_user"
   ]
  },
  {
   "cell_type": "code",
   "execution_count": 4,
   "metadata": {},
   "outputs": [],
   "source": [
    "def train_users(users, epochs,\n",
    "                new_weights = None,\n",
    "                train_user_verbose_evaluate = 0,\n",
    "                train_user_verbose_fit = False,\n",
    "                verbose = True):\n",
    "    \"\"\"\n",
    "    this method is used to train all users on the passed in epochs value\n",
    "    \"\"\"\n",
    "    \n",
    "    for user in users.values():\n",
    "        # if user.get_id() < 0:\n",
    "        #     continue\n",
    "\n",
    "        if verbose:\n",
    "            message = f\"User {user.get_id()} being trained on the model...\"\n",
    "            print(message)\n",
    "\n",
    "        user.train(\n",
    "            epochs = epochs,\n",
    "            weights = new_weights, # if none, then wont be updated\n",
    "            verbose_fit = train_user_verbose_fit,\n",
    "            verbose_evaluate = train_user_verbose_evaluate\n",
    "        )\n",
    "\n",
    "        if verbose:\n",
    "            message = f\"User {user.get_id()} done!\"\n",
    "            print(message)\n",
    "\n",
    "    return\n",
    "\n",
    "\n",
    "\n",
    "def train_fed(epochs, rounds, users,\n",
    "              verbose = True,\n",
    "              strat = \"central\",\n",
    "              train_user_verbose = False,\n",
    "              train_user_verbose_evaluate = False,\n",
    "              train_user_verbose_fit = False,\n",
    "              averaging_method = Average.all,\n",
    "             averaging_pre = False,\n",
    "             averaging_post = False,\n",
    "             averaging_metric = \"accuracy\"):\n",
    "    \"\"\"\n",
    "    this function trains a federation of users using 'strat' stratergy\n",
    "    central or personalised\n",
    "    \n",
    "    central is where all the users send data to a server and the server\n",
    "    sends back new weights\n",
    "    \n",
    "    personalised is where all the users are sent each others data\n",
    "    and the user tests how their own test data performs on everyone \n",
    "    elses models. Based on their policy, they then decide what way\n",
    "    to average the data.\n",
    "    \"\"\"\n",
    "\n",
    "    for i in range(rounds):\n",
    "        new_weights = None\n",
    "    \n",
    "        # users' weights will not be updated till round i+1\n",
    "        \n",
    "        if verbose:\n",
    "            message = f\"{'*'*32} {i:^4} {'*'*32}\"\n",
    "            print(message)\n",
    "\n",
    "        train_users(users = users, epochs = EPOCHS,\n",
    "                   new_weights = new_weights,\n",
    "                   verbose = train_user_verbose,\n",
    "                   train_user_verbose_evaluate = train_user_verbose_evaluate,\n",
    "                   train_user_verbose_fit = train_user_verbose_fit)\n",
    "        if strat == \"central\":\n",
    "            # calc new weight and pass it to train users \n",
    "            # in next round for the users to update their\n",
    "            # model and retrain on their local train data\n",
    "            new_weights = averaging_method(users = users, \n",
    "                                  pre = averaging_pre,\n",
    "                                  post = averaging_post, \n",
    "                                  metric = averaging_metric)\n",
    "    \n",
    "        elif strat == \"personalised\":\n",
    "            new_weights = dict()\n",
    "            for user in users.values():\n",
    "                # gather everyones models/weights in a dict\n",
    "                # and pass it to train users in next round\n",
    "                new_weights[user.get_id()] = user.get_weights()\n",
    "            \n",
    "        if verbose:\n",
    "            message = f\"{'*'*32} {'DONE':^4} {'*'*32}\"\n",
    "            print(message)\n",
    "    return\n"
   ]
  },
  {
   "cell_type": "code",
   "execution_count": null,
   "metadata": {},
   "outputs": [],
   "source": []
  },
  {
   "cell_type": "code",
   "execution_count": 8,
   "metadata": {},
   "outputs": [],
   "source": [
    "# SEED = 0\n",
    "df = read_file(\"../dataset/allUsers.lcl.csv\")\n",
    "df = shuffle_df(df, SEED)\n",
    "averaging_methods = [Average.all,Average.std_dev,Average.weighted_avg]\n",
    "# df.head()"
   ]
  },
  {
   "cell_type": "code",
   "execution_count": 9,
   "metadata": {},
   "outputs": [],
   "source": [
    "DEVICE = '/cpu:0'\n",
    "ROUNDS = 2\n",
    "EPOCHS = 16 # 16 is good"
   ]
  },
  {
   "cell_type": "code",
   "execution_count": 24,
   "metadata": {},
   "outputs": [
    {
     "name": "stdout",
     "output_type": "stream",
     "text": [
      "Initialising User instances...\n",
      "User 3 has no data, no instance created...\n",
      "13 User instances and a global user created!\n",
      "Global user training and validation\n"
     ]
    }
   ],
   "source": [
    "# forces tensorfor to the a particular device to run things\n",
    "with tf.device(DEVICE):\n",
    "#     averaging_methods = [Average.all]\n",
    "#      # return a dictionary of users with data\n",
    "    users_all, global_user = init_users(df = df, \n",
    "                                        averaging_methods = averaging_methods, \n",
    "                                        seed = SEED)\n",
    "#     train_fed(users = users_all, rounds = ROUNDS,\n",
    "#               epochs = EPOCHS,\n",
    "#               strat = \"central\",\n",
    "#               train_user_verbose = False,\n",
    "#               train_user_verbose_evaluate = False,\n",
    "#               train_user_verbose_fit = False,\n",
    "#               averaging_method = Average.all,\n",
    "#               averaging_post = True,\n",
    "#               averaging_metric = \"accuracy\")\n",
    "    \n",
    "#     # return a dictionary of users with data\n",
    "#     users_all_2, global_user = init_users(df = df, \n",
    "#                                         averaging_methods = averaging_methods, \n",
    "#                                         seed = SEED)\n",
    "#     train_fed(users = users_all_2, rounds = ROUNDS,\n",
    "#               epochs = EPOCHS,\n",
    "              \n",
    "#               strat = \"personalised\",\n",
    "#               train_user_verbose = False,\n",
    "#               train_user_verbose_evaluate = False,\n",
    "#               train_user_verbose_fit = False,\n",
    "#               averaging_post = True,\n",
    "#               averaging_metric = \"accuracy\")\n",
    "    \n",
    "    \n",
    "# #     users, global_user = init_users(df) # return a dictionary of users with data\n",
    "    \n",
    "    print(\"Global user training and validation\")\n",
    "    global_user.train(epochs = EPOCHS*ROUNDS,\n",
    "       verbose_fit = False,\n",
    "       verbose_evaluate = False,\n",
    "    )"
   ]
  },
  {
   "cell_type": "code",
   "execution_count": 25,
   "metadata": {
    "collapsed": true,
    "jupyter": {
     "outputs_hidden": true
    }
   },
   "outputs": [
    {
     "name": "stdout",
     "output_type": "stream",
     "text": [
      "{'loss': [6.6801447277958745, 1.6336645512097945, 1.0038267144624111, 0.7695819447049187, 0.6468421424386899, 0.5739121594520521, 0.5302286964170123, 0.5006202844365946, 0.4765285373483046, 0.45440073781575874, 0.4367774348030046, 0.4199040474514244, 0.40505669008779416, 0.39292751976695206, 0.3809413435085789, 0.3693939143538532, 0.356433696481591, 0.3444556977826536, 0.33554819673004677, 0.3274309438149118, 0.3194900393274356, 0.3123049037521478, 0.30587003126924645, 0.30084893248864863, 0.2932372510551242, 0.2878858940422083, 0.2819722255913602, 0.27675293790694105, 0.27210909563124297, 0.2677238165115159, 0.2647748038825023, 0.259171626782642], 'sparse_categorical_accuracy': [0.59516495, 0.71419793, 0.75305605, 0.7725193, 0.79157275, 0.805436, 0.8169774, 0.82530904, 0.8322065, 0.840265, 0.8477088, 0.8546746, 0.86177695, 0.8647135, 0.868333, 0.874411, 0.87987435, 0.88397187, 0.88902545, 0.89025474, 0.89360106, 0.89797175, 0.89961076, 0.90118146, 0.90391314, 0.9058936, 0.9067814, 0.9084204, 0.9105375, 0.9121765, 0.91320086, 0.91593254], 'val_loss': [2.4403192005888212, 1.3688992350786784, 1.0046137481579842, 0.8480094452784507, 0.7378932034363637, 0.6705088369720809, 0.6293165489032947, 0.6034878191462405, 0.5714706978918075, 0.5498846618153721, 0.5305192383665258, 0.509182691256596, 0.49758578653439123, 0.48128076057359837, 0.4633661805362248, 0.4442947689955949, 0.4296065310221963, 0.421057026470765, 0.41315748158646176, 0.4028035976363606, 0.39603863260560873, 0.38877970002220685, 0.3875744594667466, 0.3737344747194377, 0.3727821238618287, 0.36569863502252936, 0.36409833319630197, 0.36710050689883467, 0.36807627569600904, 0.3641277622355958, 0.36616142336229546, 0.36933629854344313], 'val_sparse_categorical_accuracy': [0.6887933, 0.7285392, 0.7510756, 0.7650072, 0.7760705, 0.7902069, 0.79840195, 0.8047531, 0.81479204, 0.8211432, 0.8303626, 0.84019667, 0.84286004, 0.8520795, 0.85781604, 0.8621184, 0.8717476, 0.8748207, 0.87912315, 0.87871337, 0.882606, 0.88219625, 0.8832207, 0.88506454, 0.8836304, 0.8860889, 0.8885474, 0.88670355, 0.8852694, 0.8864987, 0.8895718, 0.8901864]}\n"
     ]
    },
    {
     "data": {
      "image/png": "[encoded data removed]",
      "text/plain": [
       "<Figure size 432x288 with 1 Axes>"
      ]
     },
     "metadata": {
      "needs_background": "light"
     },
     "output_type": "display_data"
    },
    {
     "data": {
      "image/png": "[encoded data removed]",
      "text/plain": [
       "<Figure size 432x288 with 1 Axes>"
      ]
     },
     "metadata": {
      "needs_background": "light"
     },
     "output_type": "display_data"
    },
    {
     "data": {
      "text/plain": [
       "<Figure size 432x288 with 0 Axes>"
      ]
     },
     "metadata": {},
     "output_type": "display_data"
    }
   ],
   "source": [
    "    print(global_user.get_history()[-1].history)\n",
    "    draw_graphs(global_user)\n",
    "    "
   ]
  },
  {
   "cell_type": "code",
   "execution_count": 35,
   "metadata": {},
   "outputs": [
    {
     "name": "stdout",
     "output_type": "stream",
     "text": [
      "Initialising User instances...\n",
      "User 3 has no data, no instance created...\n",
      "13 User instances and a global user created!\n",
      "********************************  0   ********************************\n",
      "User 7: 0.6000000238418579 < 0.8507546038657583\n",
      "******************************** DONE ********************************\n",
      "********************************  1   ********************************\n",
      "User 7: 0.6000000238418579 < 0.8537296804784296\n",
      "******************************** DONE ********************************\n",
      "Initialising User instances...\n",
      "User 3 has no data, no instance created...\n",
      "13 User instances and a global user created!\n",
      "********************************  0   ********************************\n",
      "******************************** DONE ********************************\n",
      "********************************  1   ********************************\n",
      "******************************** DONE ********************************\n"
     ]
    }
   ],
   "source": [
    "with tf.device(DEVICE):\n",
    "    averaging_methods = [Average.std_dev]\n",
    "    # return a dictionary of users with data\n",
    "    users_std_dev, global_user = init_users(df = df, \n",
    "                                        averaging_methods = averaging_methods, \n",
    "                                        seed = SEED)\n",
    "    train_fed(users = users_std_dev, rounds = ROUNDS,\n",
    "              epochs = EPOCHS,\n",
    "              strat = \"central\",\n",
    "              train_user_verbose = False,\n",
    "              train_user_verbose_evaluate = False,\n",
    "              train_user_verbose_fit = False,\n",
    "              averaging_method =  Average.std_dev,\n",
    "             averaging_post = True,\n",
    "              averaging_metric = \"accuracy\")\n",
    "    \n",
    "    # return a dictionary of users with data\n",
    "    users_std_dev_2, global_user = init_users(df = df, \n",
    "                                        averaging_methods = averaging_methods, \n",
    "                                        seed = SEED)\n",
    "    train_fed(users = users_std_dev_2, rounds = ROUNDS,\n",
    "              epochs = EPOCHS,\n",
    "              strat = \"personalised\",\n",
    "              train_user_verbose = False,\n",
    "              train_user_verbose_evaluate = False,\n",
    "              train_user_verbose_fit = False,\n",
    "              averaging_post = True,\n",
    "              averaging_metric = \"accuracy\")\n",
    "    \n",
    "    "
   ]
  },
  {
   "cell_type": "code",
   "execution_count": null,
   "metadata": {},
   "outputs": [],
   "source": [
    "with tf.device(DEVICE):\n",
    "    averaging_methods = [Average.weighted_avg]\n",
    "    \n",
    "    # return a dictionary of users with data\n",
    "    users_weighted_avg, global_user = init_users(df = df, \n",
    "                                        averaging_methods = averaging_methods, \n",
    "                                        seed = SEED)\n",
    "    train_fed(users = users_weighted_avg, rounds = ROUNDS,\n",
    "              epochs = EPOCHS,\n",
    "              strat = \"central\",\n",
    "              train_user_verbose = False,\n",
    "              train_user_verbose_evaluate = False,\n",
    "              train_user_verbose_fit = False,\n",
    "              averaging_method = Average.weighted_avg,\n",
    "              averaging_post = True,\n",
    "              averaging_metric = \"accuracy\")\n",
    "    \n",
    "    # return a dictionary of users with data\n",
    "    users_weighted_avg_2, global_user = init_users(df = df, \n",
    "                                        averaging_methods = averaging_methods, \n",
    "                                        seed = SEED)\n",
    "    train_fed(users = users_weighted_avg_2, rounds = ROUNDS,\n",
    "              epochs = EPOCHS,\n",
    "              strat = \"personalised\",\n",
    "              train_user_verbose = False,\n",
    "              train_user_verbose_evaluate = False,\n",
    "              train_user_verbose_fit = False,\n",
    "              averaging_post = True,\n",
    "              averaging_metric = \"accuracy\")\n",
    "    "
   ]
  },
  {
   "cell_type": "code",
   "execution_count": 36,
   "metadata": {
    "collapsed": true,
    "jupyter": {
     "outputs_hidden": true
    }
   },
   "outputs": [
    {
     "name": "stdout",
     "output_type": "stream",
     "text": [
      "All\n",
      "For p2p\n"
     ]
    },
    {
     "ename": "NameError",
     "evalue": "name 'users_all_2' is not defined",
     "output_type": "error",
     "traceback": [
      "\u001b[0;31m---------------------------------------------------------------------------\u001b[0m",
      "\u001b[0;31mNameError\u001b[0m                                 Traceback (most recent call last)",
      "\u001b[0;32m<ipython-input-36-bc026b65de6b>\u001b[0m in \u001b[0;36m<module>\u001b[0;34m\u001b[0m\n\u001b[1;32m      9\u001b[0m \u001b[0;34m\u001b[0m\u001b[0m\n\u001b[1;32m     10\u001b[0m \u001b[0;34m\u001b[0m\u001b[0m\n\u001b[0;32m---> 11\u001b[0;31m df_avg_round_stats_acc = avg_round_stats(users_all_2, \n\u001b[0m\u001b[1;32m     12\u001b[0m                                          \u001b[0mignore_first_n\u001b[0m \u001b[0;34m=\u001b[0m \u001b[0mignore_first_n\u001b[0m\u001b[0;34m,\u001b[0m\u001b[0;34m\u001b[0m\u001b[0;34m\u001b[0m\u001b[0m\n\u001b[1;32m     13\u001b[0m                                          \u001b[0mmin_max_fill\u001b[0m \u001b[0;34m=\u001b[0m \u001b[0;32mTrue\u001b[0m\u001b[0;34m,\u001b[0m\u001b[0;34m\u001b[0m\u001b[0;34m\u001b[0m\u001b[0m\n",
      "\u001b[0;31mNameError\u001b[0m: name 'users_all_2' is not defined"
     ]
    }
   ],
   "source": [
    "ignore_first_n = 0\n",
    "final_values = True\n",
    "\n",
    "\n",
    "\n",
    "print(\"All\")\n",
    "\n",
    "print(\"For p2p\")\n",
    "\n",
    "\n",
    "df_avg_round_stats_acc = avg_round_stats(users_all_2, \n",
    "                                         ignore_first_n = ignore_first_n, \n",
    "                                         min_max_fill = True, \n",
    "                                         metric = \"accuracy\",\n",
    "                                         final_values = final_values)\n",
    "df_avg_user_stats_acc = avg_user_stats(users_all_2, \n",
    "                                       ignore_first_n = ignore_first_n, \n",
    "                                       min_max_fill = True, \n",
    "                                       metric = \"accuracy\",\n",
    "                                       final_values = final_values)\n",
    "print(\"For central\")\n",
    "\n",
    "\n",
    "df_avg_round_stats_acc = avg_round_stats(users_all, \n",
    "                                         ignore_first_n = ignore_first_n, \n",
    "                                         min_max_fill = True, \n",
    "                                         metric = \"accuracy\",\n",
    "                                         final_values = final_values)\n",
    "df_avg_user_stats_acc = avg_user_stats(users_all, \n",
    "                                       ignore_first_n = ignore_first_n, \n",
    "                                       min_max_fill = True, \n",
    "                                       metric = \"accuracy\",\n",
    "                                       final_values = final_values)"
   ]
  },
  {
   "cell_type": "code",
   "execution_count": 37,
   "metadata": {},
   "outputs": [
    {
     "name": "stdout",
     "output_type": "stream",
     "text": [
      "Std deviation\n",
      "For p2p\n",
      "Final values for Pre-fit accuracy\n",
      "Position                   Pre\n",
      "Round                        1\n",
      "Average               0.954848\n",
      "Standard Deviation    0.104094\n",
      "Minimum                    0.6\n",
      "Maximum                      1\n",
      "Name: 2, dtype: object\n",
      "Final values for Post-fit accuracy\n",
      "Position                 Post\n",
      "Round                       1\n",
      "Average               0.95882\n",
      "Standard Deviation    0.10509\n",
      "Minimum                   0.6\n",
      "Maximum                     1\n",
      "Name: 3, dtype: object\n",
      "\n"
     ]
    },
    {
     "data": {
      "image/png": "[encoded data removed]",
      "text/plain": [
       "<Figure size 432x288 with 1 Axes>"
      ]
     },
     "metadata": {
      "needs_background": "light"
     },
     "output_type": "display_data"
    },
    {
     "name": "stdout",
     "output_type": "stream",
     "text": [
      "Final accuracy for Pre-fit data\n",
      "   User  Final Value\n",
      "1     0     0.956044\n",
      "3     1     0.979167\n",
      "5     2     0.956522\n",
      "7     4     1.000000\n",
      "9     5     1.000000\n",
      "11    6     1.000000\n",
      "13    7     0.600000\n",
      "15    8     1.000000\n",
      "17    9     1.000000\n",
      "19   10     0.958333\n",
      "21   11     0.962963\n",
      "23   12     1.000000\n",
      "25   13     1.000000\n",
      "Averaged: 0.9548483628493089\n",
      "\n",
      "Final accuracy for Post-fit data\n",
      "   User  Final Value\n",
      "0     0     0.934066\n",
      "2     1     1.000000\n",
      "4     2     0.978261\n",
      "6     4     1.000000\n",
      "8     5     1.000000\n",
      "10    6     1.000000\n",
      "12    7     0.600000\n",
      "14    8     0.985507\n",
      "16    9     1.000000\n",
      "18   10     0.979167\n",
      "20   11     0.987654\n",
      "22   12     1.000000\n",
      "24   13     1.000000\n",
      "Averaged: 0.9588196231768682\n",
      "\n"
     ]
    },
    {
     "data": {
      "image/png": "[encoded data removed]",
      "text/plain": [
       "<Figure size 432x288 with 1 Axes>"
      ]
     },
     "metadata": {
      "needs_background": "light"
     },
     "output_type": "display_data"
    },
    {
     "name": "stdout",
     "output_type": "stream",
     "text": [
      "For central\n",
      "Final values for Pre-fit accuracy\n",
      "Position                   Pre\n",
      "Round                        1\n",
      "Average               0.954848\n",
      "Standard Deviation    0.104094\n",
      "Minimum                    0.6\n",
      "Maximum                      1\n",
      "Name: 2, dtype: object\n",
      "Final values for Post-fit accuracy\n",
      "Position                 Post\n",
      "Round                       1\n",
      "Average               0.95882\n",
      "Standard Deviation    0.10509\n",
      "Minimum                   0.6\n",
      "Maximum                     1\n",
      "Name: 3, dtype: object\n",
      "\n"
     ]
    },
    {
     "data": {
      "image/png": "[encoded data removed]",
      "text/plain": [
       "<Figure size 432x288 with 1 Axes>"
      ]
     },
     "metadata": {
      "needs_background": "light"
     },
     "output_type": "display_data"
    },
    {
     "name": "stdout",
     "output_type": "stream",
     "text": [
      "Final accuracy for Pre-fit data\n",
      "   User  Final Value\n",
      "1     0     0.956044\n",
      "3     1     0.979167\n",
      "5     2     0.956522\n",
      "7     4     1.000000\n",
      "9     5     1.000000\n",
      "11    6     1.000000\n",
      "13    7     0.600000\n",
      "15    8     1.000000\n",
      "17    9     1.000000\n",
      "19   10     0.958333\n",
      "21   11     0.962963\n",
      "23   12     1.000000\n",
      "25   13     1.000000\n",
      "Averaged: 0.9548483628493089\n",
      "\n",
      "Final accuracy for Post-fit data\n",
      "   User  Final Value\n",
      "0     0     0.934066\n",
      "2     1     1.000000\n",
      "4     2     0.978261\n",
      "6     4     1.000000\n",
      "8     5     1.000000\n",
      "10    6     1.000000\n",
      "12    7     0.600000\n",
      "14    8     0.985507\n",
      "16    9     1.000000\n",
      "18   10     0.979167\n",
      "20   11     0.987654\n",
      "22   12     1.000000\n",
      "24   13     1.000000\n",
      "Averaged: 0.9588196231768682\n",
      "\n"
     ]
    },
    {
     "data": {
      "image/png": "[encoded data removed]",
      "text/plain": [
       "<Figure size 432x288 with 1 Axes>"
      ]
     },
     "metadata": {
      "needs_background": "light"
     },
     "output_type": "display_data"
    },
    {
     "data": {
      "text/plain": [
       "<Figure size 432x288 with 0 Axes>"
      ]
     },
     "metadata": {},
     "output_type": "display_data"
    }
   ],
   "source": [
    "ignore_first_n = 0\n",
    "final_values = True\n",
    "\n",
    "print(\"Std deviation\")\n",
    "\n",
    "print(\"For p2p\")\n",
    "\n",
    "\n",
    "df_avg_round_stats_acc = avg_round_stats(users_std_dev_2, \n",
    "                                         ignore_first_n = ignore_first_n, \n",
    "                                         min_max_fill = True, \n",
    "                                         metric = \"accuracy\",\n",
    "                                         final_values = final_values)\n",
    "df_avg_user_stats_acc = avg_user_stats(users_std_dev_2, \n",
    "                                       ignore_first_n = ignore_first_n, \n",
    "                                       min_max_fill = True, \n",
    "                                       metric = \"accuracy\",\n",
    "                                       final_values = final_values)\n",
    "print(\"For central\")\n",
    "\n",
    "\n",
    "df_avg_round_stats_acc = avg_round_stats(users_std_dev, \n",
    "                                         ignore_first_n = ignore_first_n, \n",
    "                                         min_max_fill = True, \n",
    "                                         metric = \"accuracy\",\n",
    "                                         final_values = final_values)\n",
    "df_avg_user_stats_acc = avg_user_stats(users_std_dev, \n",
    "                                       ignore_first_n = ignore_first_n, \n",
    "                                       min_max_fill = True, \n",
    "                                       metric = \"accuracy\",\n",
    "                                       final_values = final_values)"
   ]
  },
  {
   "cell_type": "code",
   "execution_count": 30,
   "metadata": {},
   "outputs": [
    {
     "name": "stdout",
     "output_type": "stream",
     "text": [
      "Weighted average\n",
      "For p2p\n"
     ]
    },
    {
     "ename": "NameError",
     "evalue": "name 'users_weighted_avg_2' is not defined",
     "output_type": "error",
     "traceback": [
      "\u001b[0;31m---------------------------------------------------------------------------\u001b[0m",
      "\u001b[0;31mNameError\u001b[0m                                 Traceback (most recent call last)",
      "\u001b[0;32m<ipython-input-30-b8e561c59e22>\u001b[0m in \u001b[0;36m<module>\u001b[0;34m\u001b[0m\n\u001b[1;32m      7\u001b[0m \u001b[0;34m\u001b[0m\u001b[0m\n\u001b[1;32m      8\u001b[0m \u001b[0;34m\u001b[0m\u001b[0m\n\u001b[0;32m----> 9\u001b[0;31m df_avg_round_stats_acc = avg_round_stats(users_weighted_avg_2, \n\u001b[0m\u001b[1;32m     10\u001b[0m                                          \u001b[0mignore_first_n\u001b[0m \u001b[0;34m=\u001b[0m \u001b[0mignore_first_n\u001b[0m\u001b[0;34m,\u001b[0m\u001b[0;34m\u001b[0m\u001b[0;34m\u001b[0m\u001b[0m\n\u001b[1;32m     11\u001b[0m                                          \u001b[0mmin_max_fill\u001b[0m \u001b[0;34m=\u001b[0m \u001b[0;32mTrue\u001b[0m\u001b[0;34m,\u001b[0m\u001b[0;34m\u001b[0m\u001b[0;34m\u001b[0m\u001b[0m\n",
      "\u001b[0;31mNameError\u001b[0m: name 'users_weighted_avg_2' is not defined"
     ]
    }
   ],
   "source": [
    "ignore_first_n = 0\n",
    "final_values = True\n",
    "\n",
    "print(\"Weighted average\")\n",
    "\n",
    "print(\"For p2p\")\n",
    "\n",
    "\n",
    "df_avg_round_stats_acc = avg_round_stats(users_weighted_avg_2, \n",
    "                                         ignore_first_n = ignore_first_n, \n",
    "                                         min_max_fill = True, \n",
    "                                         metric = \"accuracy\",\n",
    "                                         final_values = final_values)\n",
    "df_avg_user_stats_acc = avg_user_stats(users_weighted_avg_2, \n",
    "                                       ignore_first_n = ignore_first_n, \n",
    "                                       min_max_fill = True, \n",
    "                                       metric = \"accuracy\",\n",
    "                                       final_values = final_values)\n",
    "print(\"For central\")\n",
    "\n",
    "\n",
    "df_avg_round_stats_acc = avg_round_stats(users_weighted_avg, \n",
    "                                         ignore_first_n = ignore_first_n, \n",
    "                                         min_max_fill = True, \n",
    "                                         metric = \"accuracy\",\n",
    "                                         final_values = final_values)\n",
    "df_avg_user_stats_acc = avg_user_stats(users_weighted_avg, \n",
    "                                       ignore_first_n = ignore_first_n, \n",
    "                                       min_max_fill = True, \n",
    "                                       metric = \"accuracy\",\n",
    "                                       final_values = final_values)"
   ]
  }
 ],
 "metadata": {
  "file_extension": ".py",
  "kernelspec": {
   "display_name": "Python 3",
   "language": "python",
   "name": "python3"
  },
  "language_info": {
   "codemirror_mode": {
    "name": "ipython",
    "version": 3
   },
   "file_extension": ".py",
   "mimetype": "text/x-python",
   "name": "python",
   "nbconvert_exporter": "python",
   "pygments_lexer": "ipython3",
   "version": "3.6.8"
  },
  "mimetype": "text/x-python",
  "name": "python",
  "npconvert_exporter": "python",
  "pygments_lexer": "ipython3",
  "version": 3
 },
 "nbformat": 4,
 "nbformat_minor": 4
}
