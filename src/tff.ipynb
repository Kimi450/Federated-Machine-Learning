{
 "cells": [
  {
   "cell_type": "code",
   "execution_count": 1,
   "metadata": {},
   "outputs": [
    {
     "data": {
      "text/plain": [
       "b'Hello, World!'"
      ]
     },
     "execution_count": 1,
     "metadata": {},
     "output_type": "execute_result"
    }
   ],
   "source": [
    "from __future__ import absolute_import, division, print_function\n",
    "import nest_asyncio\n",
    "\n",
    "nest_asyncio.apply()\n",
    "\n",
    "import time\n",
    "import numpy as np\n",
    "import tensorflow as tf\n",
    "import tensorflow_federated as tff\n",
    "import pandas as pd\n",
    "import matplotlib.pyplot as plt\n",
    "\n",
    "from user import User\n",
    "from average import Average\n",
    "from tensorflow import keras\n",
    "from sklearn.model_selection import train_test_split\n",
    "\n",
    "import collections\n",
    "import warnings\n",
    "\n",
    "from six.moves import range\n",
    "import six\n",
    "\n",
    "SEED = 0\n",
    "\n",
    "# import os\n",
    "# os.environ['PYTHONHASHSEED']=str(SEED)\n",
    "# np.random.seed(SEED)\n",
    "# import random\n",
    "# random.seed(SEED)\n",
    "# tf.set_random_seed(SEED)\n",
    "# could need to force keras to not use parallelism, see documentation\n",
    "\n",
    "%load_ext autoreload\n",
    "%autoreload 2\n",
    "%matplotlib inline\n",
    "\n",
    "#@test {\"skip\": true}\n",
    "\n",
    "# NOTE: If you are running a Jupyter notebook, and installing a locally built\n",
    "# pip package, you may need to edit the following to point to the '.whl' file\n",
    "# on your local filesystem.\n",
    "\n",
    "# NOTE: The high-performance executor components used in this tutorial are not\n",
    "# yet included in the released pip package; you may need to compile from source.\n",
    "\n",
    "# NOTE: Jupyter requires a patch to asyncio.\n",
    "\n",
    "\n",
    "warnings.simplefilter('ignore')\n",
    "\n",
    "tf.compat.v1.enable_v2_behavior()\n",
    "\n",
    "np.random.seed(0)\n",
    "\n",
    "# NOTE: If the statement below fails, it means that you are\n",
    "# using an older version of TFF without the high-performance\n",
    "# executor stack. Call `tff.framework.set_default_executor()`\n",
    "# instead to use the default reference runtime.\n",
    "if six.PY3:\n",
    "    tff.framework.set_default_executor(tff.framework.create_local_executor())\n",
    "\n",
    "tff.federated_computation(lambda: 'Hello, World!')()"
   ]
  },
  {
   "cell_type": "code",
   "execution_count": 2,
   "metadata": {},
   "outputs": [],
   "source": [
    "def read_file(file):\n",
    "    \"\"\"\n",
    "    return 2d df after imputing with 0s\"\"\"\n",
    "\n",
    "    # read data\n",
    "    df = pd.read_csv(file)\n",
    "\n",
    "    # replace the question marks with NaN and then change data type to float 32\n",
    "    df.replace([\"?\"],np.nan, inplace = True)\n",
    "    df = df.astype(np.float32)\n",
    "\n",
    "    # imputation\n",
    "    df.fillna(0,inplace=True) # fill nulls with 0\n",
    "    return df\n",
    "\n",
    "def shuffle_df(df, seed = None):\n",
    "    \"\"\"Shuffle dataframe and reset the index\"\"\"\n",
    "    df = df.take(np.random.RandomState(seed=SEED).permutation(df.shape[0]))\n",
    "    df.reset_index(drop = True, inplace = True)\n",
    "    \n",
    "    return df\n",
    "\n",
    "def acquire_user_data(df, for_user = None, seed = None):\n",
    "    \"\"\"\n",
    "    split the dataframe into train, validation and test splits based on the same seed\n",
    "    Empty dataframes if no data present\n",
    "    \"\"\"\n",
    "    # split into train, validation and test data using sklearn and return dfs for each\n",
    "    if for_user!=None:\n",
    "        df = df[df[\"User\"] == for_user]\n",
    "    if df.shape[0] == 0:\n",
    "        # if no data for the user, then return 9 empty dfs as per the api\n",
    "        # print(f\"Dataframe for user {user} is of shape {df.shape}, no data. Skipping...\")\n",
    "        df = pd.DataFrame()\n",
    "        return df, df\n",
    "    target = df[\"Class\"]\n",
    "\n",
    "    # drop the class and user identifier columns from data frame\n",
    "    df   = df.drop(df.columns[[0,1]], axis=1)\n",
    "    return df, target\n",
    "\n",
    "\n",
    "\n",
    "\n",
    "\n",
    "def create_hdf5(df,name, seed=None):\n",
    "    \"\"\"\n",
    "    create hdf5 files of structure \n",
    "    examples\n",
    "        userID\n",
    "            points\n",
    "            label\n",
    "    returns the number of clients created\n",
    "    \"\"\"\n",
    "    n = 0\n",
    "    with h5py.File(name, \"w\") as f:\n",
    "        examples = f.create_group(\"examples\")\n",
    "        u_users = df[\"User\"].unique()\n",
    "        for user_id in u_users:\n",
    "            grp = examples.create_group(f\"{str(user_id)}\")\n",
    "            user_df, target = acquire_user_data(df = df, for_user=user_id, seed = 0)\n",
    "            if user_df.shape[0]==0:\n",
    "                print(f\"User {user_id} has no data, no instance created...\")\n",
    "                continue\n",
    "            n+=1\n",
    "            grp.create_dataset('points',data=user_df.values)\n",
    "            grp.create_dataset('label',data=target.values)\n",
    "    return n"
   ]
  },
  {
   "cell_type": "code",
   "execution_count": 3,
   "metadata": {},
   "outputs": [
    {
     "data": {
      "text/plain": [
       "'\\ndef printname(name):\\n    print(name)\\nwith h5py.File(file,\"r\") as f:\\n    pass\\n    f.visit(printname)\\n'"
      ]
     },
     "execution_count": 3,
     "metadata": {},
     "output_type": "execute_result"
    }
   ],
   "source": [
    "import numpy as np\n",
    "import h5py\n",
    "from tensorflow_federated.python.simulation import hdf5_client_data\n",
    "# https://github.com/tensorflow/federated/blob/master/tensorflow_federated/python/simulation/hdf5_client_data_test.py\n",
    "# https://github.com/tensorflow/federated/blob/v0.11.0/tensorflow_federated/python/simulation/hdf5_client_data.py\n",
    "# http://docs.h5py.org/en/stable/high/group.html#Group.create_dataset\n",
    "# https://stackoverflow.com/questions/55434004/create-a-custom-federated-data-set-in-tensorflow-federated\n",
    "# https://stackoverflow.com/questions/58965488/how-to-create-federated-dataset-from-a-csv-file\n",
    "\n",
    "file = \"dataset.hdf5\"\n",
    "\n",
    "df = read_file(\"../dataset/allUsers.lcl.csv\")\n",
    "NUM_CLIENTS = create_hdf5(df,file,0)\n",
    "\"\"\"\n",
    "def printname(name):\n",
    "    print(name)\n",
    "with h5py.File(file,\"r\") as f:\n",
    "    pass\n",
    "    f.visit(printname)\n",
    "\"\"\""
   ]
  },
  {
   "cell_type": "code",
   "execution_count": 4,
   "metadata": {},
   "outputs": [
    {
     "name": "stdout",
     "output_type": "stream",
     "text": [
      "[0. 0. 0. 0. 0. 0. 0. 0. 0. 0. 0. 0. 0. 0. 0. 0. 0. 0. 0. 0. 0. 0. 0. 0.\n",
      " 0. 0. 0. 0. 0. 0. 0. 0. 0. 0. 0. 0.]\n"
     ]
    }
   ],
   "source": [
    "# emnist_train, emnist_test = tff.simulation.datasets.emnist.load_data()\n",
    "myclient = hdf5_client_data.HDF5ClientData(file)\n",
    "train = myclient\n",
    "example_dataset = train.create_tf_dataset_for_client(\n",
    "    train.client_ids[0])\n",
    "\n",
    "example_element = iter(example_dataset).next()\n",
    "\n",
    "print(example_element['points'].numpy())"
   ]
  },
  {
   "cell_type": "code",
   "execution_count": 5,
   "metadata": {},
   "outputs": [],
   "source": [
    "# NUM_CLIENTS = 10\n",
    "NUM_EPOCHS = 10\n",
    "BATCH_SIZE = 20\n",
    "SHUFFLE_BUFFER = 500\n",
    "\n",
    "def preprocess(dataset):\n",
    "\n",
    "    def element_fn(element):\n",
    "        return collections.OrderedDict([\n",
    "            ('x', tf.reshape(element['points'], [-1])),\n",
    "            ('y', tf.reshape(element['label'], [1])),\n",
    "        ])\n",
    "\n",
    "    return dataset.repeat(NUM_EPOCHS).map(element_fn).shuffle(\n",
    "      SHUFFLE_BUFFER).batch(BATCH_SIZE)"
   ]
  },
  {
   "cell_type": "code",
   "execution_count": 6,
   "metadata": {},
   "outputs": [
    {
     "data": {
      "text/plain": [
       "tensorflow_federated.python.simulation.hdf5_client_data.HDF5ClientData"
      ]
     },
     "execution_count": 6,
     "metadata": {},
     "output_type": "execute_result"
    }
   ],
   "source": [
    "type(train)"
   ]
  },
  {
   "cell_type": "code",
   "execution_count": 7,
   "metadata": {},
   "outputs": [
    {
     "data": {
      "text/plain": [
       "OrderedDict([('x',\n",
       "              array([[ 54.67766  ,  72.19174  , -63.592896 ,  86.29736  ,  69.0259   ,\n",
       "                      -71.57185  ,  77.674194 ,  43.537884 , -71.30554  ,  61.061195 ,\n",
       "                       11.303073 , -69.65476  ,  35.26109  ,  81.730225 , -54.04047  ,\n",
       "                        0.       ,   0.       ,   0.       ,   0.       ,   0.       ,\n",
       "                        0.       ,   0.       ,   0.       ,   0.       ,   0.       ,\n",
       "                        0.       ,   0.       ,   0.       ,   0.       ,   0.       ,\n",
       "                        0.       ,   0.       ,   0.       ,   0.       ,   0.       ,\n",
       "                        0.       ],\n",
       "                     [ 37.39168  ,  81.85215  , -51.971466 ,  62.47534  ,  11.078077 ,\n",
       "                      -68.00474  ,  77.56011  ,  42.85021  , -71.73097  ,  86.40394  ,\n",
       "                       68.36682  , -71.948814 ,  55.353733 ,  71.76356  , -63.652836 ,\n",
       "                        0.       ,   0.       ,   0.       ,   0.       ,   0.       ,\n",
       "                        0.       ,   0.       ,   0.       ,   0.       ,   0.       ,\n",
       "                        0.       ,   0.       ,   0.       ,   0.       ,   0.       ,\n",
       "                        0.       ,   0.       ,   0.       ,   0.       ,   0.       ,\n",
       "                        0.       ],\n",
       "                     [ 62.976116 ,  11.346414 , -67.48482  ,  36.018208 ,  81.759346 ,\n",
       "                      -53.144447 ,  86.90257  ,  68.592735 , -71.2142   ,  77.4031   ,\n",
       "                       43.00633  , -71.70316  ,  55.59931  ,  72.12359  , -63.029213 ,\n",
       "                        0.       ,   0.       ,   0.       ,   0.       ,   0.       ,\n",
       "                        0.       ,   0.       ,   0.       ,   0.       ,   0.       ,\n",
       "                        0.       ,   0.       ,   0.       ,   0.       ,   0.       ,\n",
       "                        0.       ,   0.       ,   0.       ,   0.       ,   0.       ,\n",
       "                        0.       ],\n",
       "                     [ 62.906784 ,  11.104444 , -67.48134  ,  32.369976 ,  81.09868  ,\n",
       "                      -57.203022 ,  86.987305 ,  68.31689  , -71.39288  ,  77.32933  ,\n",
       "                       42.697803 , -71.95539  ,   0.       ,   0.       ,   0.       ,\n",
       "                        0.       ,   0.       ,   0.       ,   0.       ,   0.       ,\n",
       "                        0.       ,   0.       ,   0.       ,   0.       ,   0.       ,\n",
       "                        0.       ,   0.       ,   0.       ,   0.       ,   0.       ,\n",
       "                        0.       ,   0.       ,   0.       ,   0.       ,   0.       ,\n",
       "                        0.       ],\n",
       "                     [ 33.226376 ,  81.37934  , -55.814846 ,  82.45488  ,  67.87805  ,\n",
       "                      -75.72744  ,  56.439686 ,  72.2211   , -61.781174 ,  58.816864 ,\n",
       "                       10.407238 , -71.25406  ,   0.       ,   0.       ,   0.       ,\n",
       "                        0.       ,   0.       ,   0.       ,   0.       ,   0.       ,\n",
       "                        0.       ,   0.       ,   0.       ,   0.       ,   0.       ,\n",
       "                        0.       ,   0.       ,   0.       ,   0.       ,   0.       ,\n",
       "                        0.       ,   0.       ,   0.       ,   0.       ,   0.       ,\n",
       "                        0.       ],\n",
       "                     [ 60.260376 ,  10.279154 , -70.151405 ,  34.465023 ,  81.01138  ,\n",
       "                      -55.274963 ,  83.32809  ,  67.46159  , -75.47216  ,  58.077316 ,\n",
       "                       71.7753   , -60.73976  ,  77.570244 ,  42.52188  , -71.44328  ,\n",
       "                        0.       ,   0.       ,   0.       ,   0.       ,   0.       ,\n",
       "                        0.       ,   0.       ,   0.       ,   0.       ,   0.       ,\n",
       "                        0.       ,   0.       ,   0.       ,   0.       ,   0.       ,\n",
       "                        0.       ,   0.       ,   0.       ,   0.       ,   0.       ,\n",
       "                        0.       ],\n",
       "                     [ 57.372402 ,  71.84744  , -61.85502  ,  34.489883 ,  81.25577  ,\n",
       "                      -55.252422 ,  59.429592 ,  10.311043 , -71.37019  ,  76.84822  ,\n",
       "                       42.65863  , -72.579926 ,  85.10069  ,  67.95769  , -73.54402  ,\n",
       "                        0.       ,   0.       ,   0.       ,   0.       ,   0.       ,\n",
       "                        0.       ,   0.       ,   0.       ,   0.       ,   0.       ,\n",
       "                        0.       ,   0.       ,   0.       ,   0.       ,   0.       ,\n",
       "                        0.       ,   0.       ,   0.       ,   0.       ,   0.       ,\n",
       "                        0.       ],\n",
       "                     [ 62.165733 ,   9.870585 , -68.38784  ,  61.55587  ,  71.58133  ,\n",
       "                      -57.976383 ,  33.820576 ,  80.299965 , -56.59614  ,  75.29873  ,\n",
       "                       41.455467 , -74.49343  ,  83.19131  ,  66.63532  , -76.05755  ,\n",
       "                        0.       ,   0.       ,   0.       ,   0.       ,   0.       ,\n",
       "                        0.       ,   0.       ,   0.       ,   0.       ,   0.       ,\n",
       "                        0.       ,   0.       ,   0.       ,   0.       ,   0.       ,\n",
       "                        0.       ,   0.       ,   0.       ,   0.       ,   0.       ,\n",
       "                        0.       ],\n",
       "                     [ 57.994488 ,  71.53817  , -60.669598 ,  83.726234 ,  67.63055  ,\n",
       "                      -75.08803  ,  75.38436  ,  42.13075  , -74.089264 ,  31.157671 ,\n",
       "                       80.5132   , -58.14191  ,  59.748505 ,  10.376321 , -70.388054 ,\n",
       "                        0.       ,   0.       ,   0.       ,   0.       ,   0.       ,\n",
       "                        0.       ,   0.       ,   0.       ,   0.       ,   0.       ,\n",
       "                        0.       ,   0.       ,   0.       ,   0.       ,   0.       ,\n",
       "                        0.       ,   0.       ,   0.       ,   0.       ,   0.       ,\n",
       "                        0.       ],\n",
       "                     [ 58.01312  ,  73.04011  , -60.38721  ,  61.212376 ,  11.465497 ,\n",
       "                      -69.76797  ,  78.0242   ,  43.570225 , -70.856735 ,  87.205414 ,\n",
       "                       69.184135 , -70.44866  ,  34.928654 ,  82.40998  , -54.35161  ,\n",
       "                        0.       ,   0.       ,   0.       ,   0.       ,   0.       ,\n",
       "                        0.       ,   0.       ,   0.       ,   0.       ,   0.       ,\n",
       "                        0.       ,   0.       ,   0.       ,   0.       ,   0.       ,\n",
       "                        0.       ,   0.       ,   0.       ,   0.       ,   0.       ,\n",
       "                        0.       ],\n",
       "                     [ 34.122337 ,  81.264046 , -55.75962  ,  60.447384 ,  10.536398 ,\n",
       "                      -69.90289  ,  85.75786  ,  68.00679  , -72.97427  ,  76.302956 ,\n",
       "                       42.534424 , -73.14662  ,  54.211086 ,  71.50719  , -64.76124  ,\n",
       "                        0.       ,   0.       ,   0.       ,   0.       ,   0.       ,\n",
       "                        0.       ,   0.       ,   0.       ,   0.       ,   0.       ,\n",
       "                        0.       ,   0.       ,   0.       ,   0.       ,   0.       ,\n",
       "                        0.       ,   0.       ,   0.       ,   0.       ,   0.       ,\n",
       "                        0.       ],\n",
       "                     [ 31.340338 ,  81.08733  , -57.92659  ,  61.40909  ,  11.119921 ,\n",
       "                      -69.2228   ,  56.234028 ,  72.207825 , -62.311195 ,  77.198586 ,\n",
       "                       43.07717  , -72.15311  ,  86.32221  ,  68.699135 , -72.03941  ,\n",
       "                        0.       ,   0.       ,   0.       ,   0.       ,   0.       ,\n",
       "                        0.       ,   0.       ,   0.       ,   0.       ,   0.       ,\n",
       "                        0.       ,   0.       ,   0.       ,   0.       ,   0.       ,\n",
       "                        0.       ,   0.       ,   0.       ,   0.       ,   0.       ,\n",
       "                        0.       ],\n",
       "                     [ 57.078457 ,  71.78458  , -61.54456  ,  59.8307   ,  10.0282955,\n",
       "                      -70.80955  ,  31.936691 ,  80.611244 , -57.977367 ,  84.246086 ,\n",
       "                       67.75648  , -74.69843  ,  75.698456 ,  42.36143  , -73.71829  ,\n",
       "                        0.       ,   0.       ,   0.       ,   0.       ,   0.       ,\n",
       "                        0.       ,   0.       ,   0.       ,   0.       ,   0.       ,\n",
       "                        0.       ,   0.       ,   0.       ,   0.       ,   0.       ,\n",
       "                        0.       ,   0.       ,   0.       ,   0.       ,   0.       ,\n",
       "                        0.       ],\n",
       "                     [ 63.09403  ,  10.641765 , -67.34203  ,  32.115517 ,  80.46591  ,\n",
       "                      -57.846333 ,  87.0457   ,  68.15907  , -71.649086 ,  77.22896  ,\n",
       "                       42.500877 , -72.27861  ,  56.88067  ,  72.03548  , -61.67892  ,\n",
       "                        0.       ,   0.       ,   0.       ,   0.       ,   0.       ,\n",
       "                        0.       ,   0.       ,   0.       ,   0.       ,   0.       ,\n",
       "                        0.       ,   0.       ,   0.       ,   0.       ,   0.       ,\n",
       "                        0.       ,   0.       ,   0.       ,   0.       ,   0.       ,\n",
       "                        0.       ],\n",
       "                     [ 35.616596 ,  82.50694  , -52.936024 ,  61.45642  ,  12.015599 ,\n",
       "                      -68.799255 ,  77.886925 ,  43.886433 , -70.920944 ,  55.629787 ,\n",
       "                       72.87614  , -62.087975 ,  87.175705 ,  69.13499  , -70.403755 ,\n",
       "                        0.       ,   0.       ,   0.       ,   0.       ,   0.       ,\n",
       "                        0.       ,   0.       ,   0.       ,   0.       ,   0.       ,\n",
       "                        0.       ,   0.       ,   0.       ,   0.       ,   0.       ,\n",
       "                        0.       ,   0.       ,   0.       ,   0.       ,   0.       ,\n",
       "                        0.       ],\n",
       "                     [ 60.710625 ,  10.350646 , -69.69022  ,  33.314266 ,  80.823906 ,\n",
       "                      -56.16545  ,  84.49462  ,  67.48222  , -74.1314   ,  60.140163 ,\n",
       "                       71.99154  , -58.443325 ,  76.13738  ,  42.22487  , -73.39151  ,\n",
       "                        0.       ,   0.       ,   0.       ,   0.       ,   0.       ,\n",
       "                        0.       ,   0.       ,   0.       ,   0.       ,   0.       ,\n",
       "                        0.       ,   0.       ,   0.       ,   0.       ,   0.       ,\n",
       "                        0.       ,   0.       ,   0.       ,   0.       ,   0.       ,\n",
       "                        0.       ],\n",
       "                     [ 58.45674  ,  73.08887  , -59.786896 ,  61.52227  ,  11.46014  ,\n",
       "                      -69.31812  ,  78.091255 ,  43.584282 , -70.6943   ,  87.217094 ,\n",
       "                       69.24443  , -70.32251  ,  34.970486 ,  82.35758  , -54.14207  ,\n",
       "                        0.       ,   0.       ,   0.       ,   0.       ,   0.       ,\n",
       "                        0.       ,   0.       ,   0.       ,   0.       ,   0.       ,\n",
       "                        0.       ,   0.       ,   0.       ,   0.       ,   0.       ,\n",
       "                        0.       ,   0.       ,   0.       ,   0.       ,   0.       ,\n",
       "                        0.       ],\n",
       "                     [ 56.9735   ,  73.38387  , -60.245865 ,  85.22229  ,  69.4084   ,\n",
       "                      -71.48165  ,  33.257534 ,  82.58982  , -54.588924 ,  60.053585 ,\n",
       "                       12.129974 , -70.15934  ,  76.47522  ,  43.95843  , -71.550735 ,\n",
       "                        0.       ,   0.       ,   0.       ,   0.       ,   0.       ,\n",
       "                        0.       ,   0.       ,   0.       ,   0.       ,   0.       ,\n",
       "                        0.       ,   0.       ,   0.       ,   0.       ,   0.       ,\n",
       "                        0.       ,   0.       ,   0.       ,   0.       ,   0.       ,\n",
       "                        0.       ],\n",
       "                     [ 59.03552  ,   3.7488859, -71.85821  ,  83.41996  ,  60.64349  ,\n",
       "                      -80.51824  ,  55.637238 ,  64.9579   , -71.096146 ,  76.27244  ,\n",
       "                       35.390377 , -76.31322  ,   0.       ,   0.       ,   0.       ,\n",
       "                        0.       ,   0.       ,   0.       ,   0.       ,   0.       ,\n",
       "                        0.       ,   0.       ,   0.       ,   0.       ,   0.       ,\n",
       "                        0.       ,   0.       ,   0.       ,   0.       ,   0.       ,\n",
       "                        0.       ,   0.       ,   0.       ,   0.       ,   0.       ,\n",
       "                        0.       ],\n",
       "                     [ 55.84572  ,  66.522804 , -68.41084  ,  77.106544 ,  36.734283 ,\n",
       "                      -75.072334 ,  85.470314 ,  62.47384  , -77.60507  ,  34.245796 ,\n",
       "                       76.22529  , -61.55929  ,  62.476913 ,   5.036228 , -68.608925 ,\n",
       "                        0.       ,   0.       ,   0.       ,   0.       ,   0.       ,\n",
       "                        0.       ,   0.       ,   0.       ,   0.       ,   0.       ,\n",
       "                        0.       ,   0.       ,   0.       ,   0.       ,   0.       ,\n",
       "                        0.       ,   0.       ,   0.       ,   0.       ,   0.       ,\n",
       "                        0.       ]], dtype=float32)),\n",
       "             ('y', array([[1.],\n",
       "                     [1.],\n",
       "                     [1.],\n",
       "                     [1.],\n",
       "                     [1.],\n",
       "                     [1.],\n",
       "                     [1.],\n",
       "                     [1.],\n",
       "                     [1.],\n",
       "                     [1.],\n",
       "                     [1.],\n",
       "                     [1.],\n",
       "                     [1.],\n",
       "                     [1.],\n",
       "                     [1.],\n",
       "                     [1.],\n",
       "                     [1.],\n",
       "                     [1.],\n",
       "                     [1.],\n",
       "                     [1.]], dtype=float32))])"
      ]
     },
     "execution_count": 7,
     "metadata": {},
     "output_type": "execute_result"
    }
   ],
   "source": [
    "preprocessed_example_dataset = preprocess(example_dataset)\n",
    "\n",
    "sample_batch = tf.nest.map_structure(\n",
    "    lambda x: x.numpy(), iter(preprocessed_example_dataset).next())\n",
    "\n",
    "sample_batch"
   ]
  },
  {
   "cell_type": "code",
   "execution_count": 8,
   "metadata": {},
   "outputs": [
    {
     "data": {
      "text/plain": [
       "(14,\n",
       " <BatchDataset shapes: OrderedDict([(x, (None, 36)), (y, (None, 1))]), types: OrderedDict([(x, tf.float32), (y, tf.float32)])>)"
      ]
     },
     "execution_count": 8,
     "metadata": {},
     "output_type": "execute_result"
    }
   ],
   "source": [
    "def make_federated_data(client_data, client_ids):\n",
    "    return [preprocess(client_data.create_tf_dataset_for_client(x))\n",
    "          for x in client_ids]\n",
    "\n",
    "sample_clients = train.client_ids[0:NUM_CLIENTS]\n",
    "\n",
    "federated_train_data = make_federated_data(train, sample_clients)\n",
    "\n",
    "len(federated_train_data), federated_train_data[0]"
   ]
  },
  {
   "cell_type": "code",
   "execution_count": 9,
   "metadata": {},
   "outputs": [],
   "source": [
    "def create_compiled_keras_model():\n",
    "    model = tf.keras.models.Sequential([\n",
    "      tf.keras.layers.Dense(\n",
    "          10, activation=tf.nn.softmax, kernel_initializer='zeros')])\n",
    "\n",
    "    model.compile(\n",
    "      loss=tf.keras.losses.SparseCategoricalCrossentropy(),\n",
    "      optimizer=tf.keras.optimizers.SGD(learning_rate=0.02),\n",
    "      metrics=[tf.keras.metrics.SparseCategoricalAccuracy()])\n",
    "    return model\n",
    "def init_model(init_seed=None):\n",
    "    \"\"\"\n",
    "    initialise and return a model \n",
    "    \"\"\"\n",
    "    model = keras.Sequential([\n",
    "        keras.layers.Flatten(),\n",
    "#         keras.layers.Dense(4096, activation='relu',\n",
    "#             kernel_initializer=keras.initializers.glorot_uniform(seed=init_seed)),\n",
    "#         keras.layers.Dense(1024, activation='relu',\n",
    "#             kernel_initializer=keras.initializers.glorot_uniform(seed=init_seed)),\n",
    "#         keras.layers.Dense(128, activation='relu',\n",
    "#             kernel_initializer=keras.initializers.glorot_uniform(seed=init_seed)),\n",
    "        keras.layers.Dense(32, activation='relu',\n",
    "            kernel_initializer=keras.initializers.glorot_uniform(seed=init_seed)),\n",
    "        keras.layers.Dense(6, activation='softmax',\n",
    "            kernel_initializer=keras.initializers.glorot_uniform(seed=init_seed))\n",
    "    ])\n",
    "\n",
    "    model.compile(\n",
    "        optimizer = 'adam',\n",
    "        loss = 'sparse_categorical_crossentropy',\n",
    "        metrics = [tf.keras.metrics.SparseCategoricalAccuracy()]\n",
    "#         metrics = [\"accuracy\"]\n",
    "    )\n",
    "\n",
    "    return model\n",
    "\n",
    "\n",
    "def model_fn():\n",
    "    keras_model = init_model()\n",
    "    return tff.learning.from_compiled_keras_model(keras_model, sample_batch)"
   ]
  },
  {
   "cell_type": "code",
   "execution_count": 10,
   "metadata": {},
   "outputs": [
    {
     "name": "stdout",
     "output_type": "stream",
     "text": [
      "WARNING:tensorflow:From /home/kts1/proj/env/lib/python3.6/site-packages/tensorflow_core/python/ops/resource_variable_ops.py:1630: calling BaseResourceVariable.__init__ (from tensorflow.python.ops.resource_variable_ops) with constraint is deprecated and will be removed in a future version.\n",
      "Instructions for updating:\n",
      "If using Keras pass *_constraint arguments to layers.\n"
     ]
    },
    {
     "name": "stderr",
     "output_type": "stream",
     "text": [
      "WARNING:tensorflow:From /home/kts1/proj/env/lib/python3.6/site-packages/tensorflow_core/python/ops/resource_variable_ops.py:1630: calling BaseResourceVariable.__init__ (from tensorflow.python.ops.resource_variable_ops) with constraint is deprecated and will be removed in a future version.\n",
      "Instructions for updating:\n",
      "If using Keras pass *_constraint arguments to layers.\n"
     ]
    },
    {
     "name": "stdout",
     "output_type": "stream",
     "text": [
      "( -> <model=<trainable=<sequential/dense/kernel=float32[36,32],sequential/dense/bias=float32[32],sequential/dense_1/kernel=float32[32,6],sequential/dense_1/bias=float32[6]>,non_trainable=<>>,optimizer_state=<int64>,delta_aggregate_state=<>,model_broadcast_state=<>>@SERVER)\n"
     ]
    }
   ],
   "source": [
    "iterative_process = tff.learning.build_federated_averaging_process(model_fn)\n",
    "print(str(iterative_process.initialize.type_signature))\n",
    "state = iterative_process.initialize()"
   ]
  },
  {
   "cell_type": "code",
   "execution_count": 11,
   "metadata": {},
   "outputs": [
    {
     "name": "stdout",
     "output_type": "stream",
     "text": [
      "round  1, metrics=<sparse_categorical_accuracy=0.9383515119552612,loss=0.5496358871459961>\n",
      "round  2, metrics=<sparse_categorical_accuracy=0.9629532694816589,loss=0.18527714908123016>\n",
      "round  3, metrics=<sparse_categorical_accuracy=0.9692147970199585,loss=0.13197511434555054>\n",
      "round  4, metrics=<sparse_categorical_accuracy=0.9709460139274597,loss=0.11831852793693542>\n",
      "round  5, metrics=<sparse_categorical_accuracy=0.9749155044555664,loss=0.10432572662830353>\n",
      "round  6, metrics=<sparse_categorical_accuracy=0.9751062989234924,loss=0.10409539192914963>\n",
      "round  7, metrics=<sparse_categorical_accuracy=0.9757708311080933,loss=0.09923163801431656>\n",
      "round  8, metrics=<sparse_categorical_accuracy=0.975578784942627,loss=0.09917626529932022>\n",
      "round  9, metrics=<sparse_categorical_accuracy=0.9780449867248535,loss=0.09046626836061478>\n",
      "round 10, metrics=<sparse_categorical_accuracy=0.9793152213096619,loss=0.0887361615896225>\n"
     ]
    }
   ],
   "source": [
    "state, metrics = iterative_process.next(state, federated_train_data)\n",
    "print('round  1, metrics={}'.format(metrics))\n",
    "NUM_ROUNDS = 11\n",
    "for round_num in range(2, NUM_ROUNDS):\n",
    "    state, metrics = iterative_process.next(state, federated_train_data)\n",
    "    print('round {:2d}, metrics={}'.format(round_num, metrics))"
   ]
  },
  {
   "cell_type": "code",
   "execution_count": null,
   "metadata": {},
   "outputs": [],
   "source": []
  },
  {
   "cell_type": "code",
   "execution_count": null,
   "metadata": {},
   "outputs": [],
   "source": []
  },
  {
   "cell_type": "code",
   "execution_count": null,
   "metadata": {},
   "outputs": [],
   "source": []
  },
  {
   "cell_type": "code",
   "execution_count": null,
   "metadata": {},
   "outputs": [],
   "source": []
  },
  {
   "cell_type": "code",
   "execution_count": null,
   "metadata": {},
   "outputs": [],
   "source": []
  },
  {
   "cell_type": "code",
   "execution_count": null,
   "metadata": {},
   "outputs": [],
   "source": []
  },
  {
   "cell_type": "code",
   "execution_count": null,
   "metadata": {},
   "outputs": [],
   "source": []
  },
  {
   "cell_type": "code",
   "execution_count": null,
   "metadata": {},
   "outputs": [],
   "source": []
  },
  {
   "cell_type": "code",
   "execution_count": null,
   "metadata": {},
   "outputs": [],
   "source": []
  },
  {
   "cell_type": "code",
   "execution_count": null,
   "metadata": {},
   "outputs": [],
   "source": []
  },
  {
   "cell_type": "code",
   "execution_count": null,
   "metadata": {},
   "outputs": [],
   "source": []
  },
  {
   "cell_type": "code",
   "execution_count": null,
   "metadata": {},
   "outputs": [],
   "source": []
  },
  {
   "cell_type": "code",
   "execution_count": null,
   "metadata": {},
   "outputs": [],
   "source": []
  },
  {
   "cell_type": "code",
   "execution_count": null,
   "metadata": {},
   "outputs": [],
   "source": []
  },
  {
   "cell_type": "code",
   "execution_count": null,
   "metadata": {},
   "outputs": [],
   "source": []
  },
  {
   "cell_type": "code",
   "execution_count": null,
   "metadata": {},
   "outputs": [],
   "source": []
  },
  {
   "cell_type": "code",
   "execution_count": null,
   "metadata": {},
   "outputs": [],
   "source": []
  }
 ],
 "metadata": {
  "kernelspec": {
   "display_name": "Python 3",
   "language": "python",
   "name": "python3"
  },
  "language_info": {
   "codemirror_mode": {
    "name": "ipython",
    "version": 3
   },
   "file_extension": ".py",
   "mimetype": "text/x-python",
   "name": "python",
   "nbconvert_exporter": "python",
   "pygments_lexer": "ipython3",
   "version": "3.6.8"
  }
 },
 "nbformat": 4,
 "nbformat_minor": 4
}
