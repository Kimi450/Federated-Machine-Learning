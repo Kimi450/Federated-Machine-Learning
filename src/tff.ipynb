{
 "cells": [
  {
   "cell_type": "code",
   "execution_count": 1,
   "metadata": {},
   "outputs": [],
   "source": [
    "from __future__ import absolute_import, division, print_function\n",
    "import nest_asyncio\n",
    "\n",
    "nest_asyncio.apply()\n",
    "\n",
    "import time\n",
    "import numpy as np\n",
    "import tensorflow as tf\n",
    "import tensorflow_federated as tff\n",
    "import pandas as pd\n",
    "import matplotlib.pyplot as plt\n",
    "\n",
    "from user import User\n",
    "from average import Average\n",
    "from graphing import *\n",
    "from file_related import *\n",
    "from inits import *\n",
    "from trainers import *\n",
    "\n",
    "from tensorflow import keras\n",
    "from sklearn.model_selection import train_test_split\n",
    "\n",
    "import collections\n",
    "import warnings\n",
    "\n",
    "from six.moves import range\n",
    "import six\n",
    "\n",
    "SEED = 0\n",
    "\n",
    "\n",
    "# This needs tensorflow_federated and nest_asyncio for it\n",
    "# I used a different environment for the tff experiments.\n"
   ]
  },
  {
   "cell_type": "code",
   "execution_count": 2,
   "metadata": {},
   "outputs": [
    {
     "name": "stdout",
     "output_type": "stream",
     "text": [
      "b'It works!'\n"
     ]
    }
   ],
   "source": [
    "# import os\n",
    "# os.environ['PYTHONHASHSEED']=str(SEED)\n",
    "# np.random.seed(SEED)\n",
    "# import random\n",
    "# random.seed(SEED)\n",
    "# tf.set_random_seed(SEED)\n",
    "# could need to force keras to not use parallelism, see documentation\n",
    "\n",
    "%load_ext autoreload\n",
    "%autoreload 2\n",
    "%matplotlib inline\n",
    "\n",
    "#@test {\"skip\": true}\n",
    "\n",
    "# NOTE: If you are running a Jupyter notebook, and installing a locally built\n",
    "# pip package, you may need to edit the following to point to the '.whl' file\n",
    "# on your local filesystem.\n",
    "\n",
    "# NOTE: The high-performance executor components used in this tutorial are not\n",
    "# yet included in the released pip package; you may need to compile from source.\n",
    "\n",
    "# NOTE: Jupyter requires a patch to asyncio.\n",
    "\n",
    "\n",
    "warnings.simplefilter('ignore')\n",
    "\n",
    "tf.compat.v1.enable_v2_behavior()\n",
    "\n",
    "# np.random.seed(0)\n",
    "\n",
    "# NOTE: If the statement below fails, it means that you are\n",
    "# using an older version of TFF without the high-performance\n",
    "# executor stack. Call `tff.framework.set_default_executor()`\n",
    "# instead to use the default reference runtime.\n",
    "if six.PY3:\n",
    "    tff.framework.set_default_executor(tff.framework.create_local_executor())\n",
    "\n",
    "print(tff.federated_computation(lambda: 'It works!')())"
   ]
  },
  {
   "cell_type": "code",
   "execution_count": 3,
   "metadata": {},
   "outputs": [],
   "source": [
    "from tensorflow_federated.python.simulation import hdf5_client_data\n",
    "# https://github.com/tensorflow/federated/blob/master/tensorflow_federated/python/simulation/hdf5_client_data_test.py\n",
    "# https://github.com/tensorflow/federated/blob/v0.11.0/tensorflow_federated/python/simulation/hdf5_client_data.py\n",
    "# http://docs.h5py.org/en/stable/high/group.html#Group.create_dataset\n",
    "# https://stackoverflow.com/questions/55434004/create-a-custom-federated-data-set-in-tensorflow-federated\n",
    "# https://stackoverflow.com/questions/58965488/how-to-create-federated-dataset-from-a-csv-file\n",
    "\n",
    "file_train = \"dataset_train.hdf5\"\n",
    "file_test = \"dataset_test.hdf5\"\n",
    "\n",
    "df = read_file(\"../datasets/allUsers.lcl.csv\")\n",
    "df_train, df_test = split_dataframe_tff(df, test_size = 0.2)\n",
    "\n",
    "n1 = create_hdf5(df_train,file_train,0)\n",
    "n2 = create_hdf5(df_test,file_test,0)\n",
    "\n",
    "if n1==n2:\n",
    "    NUM_CLIENTS = n1\n",
    "else:\n",
    "    raise \n",
    "\n",
    "train = hdf5_client_data.HDF5ClientData(file_train)\n",
    "test = hdf5_client_data.HDF5ClientData(file_test)\n"
   ]
  },
  {
   "cell_type": "code",
   "execution_count": 4,
   "metadata": {},
   "outputs": [
    {
     "data": {
      "text/plain": [
       "(14,\n",
       " <BatchDataset shapes: OrderedDict([(x, (None, 36)), (y, (None, 1))]), types: OrderedDict([(x, tf.float32), (y, tf.float32)])>)"
      ]
     },
     "execution_count": 4,
     "metadata": {},
     "output_type": "execute_result"
    }
   ],
   "source": [
    "NUM_EPOCHS = 16\n",
    "BATCH_SIZE = 20\n",
    "SHUFFLE_BUFFER = 0\n",
    "\n",
    "def preprocess(dataset):\n",
    "\n",
    "    def element_fn(element):\n",
    "        return collections.OrderedDict([\n",
    "            ('x', tf.reshape(element['points'], [-1])),\n",
    "            ('y', tf.reshape(element['label'], [1])),\n",
    "        ])\n",
    "    return dataset.repeat(NUM_EPOCHS).map(element_fn).batch(BATCH_SIZE)\n",
    "#     return dataset.repeat(NUM_EPOCHS).map(element_fn).shuffle(\n",
    "#       SHUFFLE_BUFFER).batch(BATCH_SIZE)\n",
    "\n",
    "def make_federated_data(client_data, client_ids):\n",
    "    return [preprocess(client_data.create_tf_dataset_for_client(x))\n",
    "          for x in client_ids]\n",
    "\n",
    "def model_fn():\n",
    "    keras_model = init_model()\n",
    "    return tff.learning.from_compiled_keras_model(keras_model, sample_batch)\n",
    "\n",
    "sample_clients = train.client_ids[0:NUM_CLIENTS]\n",
    "\n",
    "federated_train_data = make_federated_data(train, sample_clients)\n",
    "federated_test_data = make_federated_data(test, sample_clients)\n",
    "\n",
    "len(federated_train_data), federated_train_data[0]"
   ]
  },
  {
   "cell_type": "code",
   "execution_count": 5,
   "metadata": {},
   "outputs": [
    {
     "name": "stdout",
     "output_type": "stream",
     "text": [
      "[ 81.092766  115.87286   -23.682505   69.05623   -37.713505  -49.422874\n",
      "  93.143105   97.44857   -36.04848   104.35408     9.425724  -50.929794\n",
      "  57.29765    66.84091   -12.179954   74.78518    52.417294  -22.879246\n",
      "  90.16965   -11.415377  -45.997704   33.773605   69.97925    -8.4139\n",
      "  57.78809   120.86517   -18.853048   -2.3338203  70.972336   -4.3896394\n",
      "   0.          0.          0.          0.          0.          0.       ]\n",
      "1.0\n"
     ]
    }
   ],
   "source": [
    "\n",
    "example_dataset = train.create_tf_dataset_for_client(\n",
    "    train.client_ids[11])\n",
    "\n",
    "example_element = iter(example_dataset).next()\n",
    "\n",
    "print(example_element['points'].numpy())\n",
    "print(example_element[\"label\"].numpy())\n",
    "\n",
    "preprocessed_example_dataset = preprocess(example_dataset)\n",
    "sample_batch = tf.nest.map_structure(\n",
    "    lambda x: x.numpy(), iter(preprocessed_example_dataset).next())\n",
    "# type(train)\n",
    "# print(sample_batch[\"y\"])\n",
    "\n",
    "# print(sample_batch[\"x\"].shape)\n",
    "# print(sample_batch[\"y\"].shape)"
   ]
  },
  {
   "cell_type": "code",
   "execution_count": null,
   "metadata": {},
   "outputs": [],
   "source": []
  },
  {
   "cell_type": "code",
   "execution_count": 6,
   "metadata": {},
   "outputs": [
    {
     "name": "stdout",
     "output_type": "stream",
     "text": [
      "WARNING:tensorflow:From /home/kts1/proj/env/lib/python3.6/site-packages/tensorflow_core/python/ops/resource_variable_ops.py:1630: calling BaseResourceVariable.__init__ (from tensorflow.python.ops.resource_variable_ops) with constraint is deprecated and will be removed in a future version.\n",
      "Instructions for updating:\n",
      "If using Keras pass *_constraint arguments to layers.\n"
     ]
    },
    {
     "name": "stderr",
     "output_type": "stream",
     "text": [
      "WARNING:tensorflow:From /home/kts1/proj/env/lib/python3.6/site-packages/tensorflow_core/python/ops/resource_variable_ops.py:1630: calling BaseResourceVariable.__init__ (from tensorflow.python.ops.resource_variable_ops) with constraint is deprecated and will be removed in a future version.\n",
      "Instructions for updating:\n",
      "If using Keras pass *_constraint arguments to layers.\n"
     ]
    },
    {
     "name": "stdout",
     "output_type": "stream",
     "text": [
      "( -> <model=<trainable=<dense/kernel=float32[36,512],dense/bias=float32[512],dense_1/kernel=float32[512,128],dense_1/bias=float32[128],dense_2/kernel=float32[128,32],dense_2/bias=float32[32],dense_3/kernel=float32[32,5],dense_3/bias=float32[5]>,non_trainable=<>>,optimizer_state=<int64>,delta_aggregate_state=<>,model_broadcast_state=<>>@SERVER)\n",
      "round  0, metrics=<sparse_categorical_accuracy=0.9867468476295471,loss=0.0546971932053566>\n",
      "round  1, metrics=<sparse_categorical_accuracy=0.9918352365493774,loss=0.026281611993908882>\n",
      "round  2, metrics=<sparse_categorical_accuracy=0.9933839440345764,loss=0.021404266357421875>\n",
      "round  3, metrics=<sparse_categorical_accuracy=0.9940652251243591,loss=0.020101679489016533>\n",
      "round  4, metrics=<sparse_categorical_accuracy=0.994291365146637,loss=0.019321998581290245>\n",
      "round  5, metrics=<sparse_categorical_accuracy=0.9947645664215088,loss=0.01793183758854866>\n",
      "round  6, metrics=<sparse_categorical_accuracy=0.9949256181716919,loss=0.017349833622574806>\n",
      "round  7, metrics=<sparse_categorical_accuracy=0.9950857162475586,loss=0.01780184544622898>\n",
      "round  8, metrics=<sparse_categorical_accuracy=0.9953988790512085,loss=0.01622433215379715>\n",
      "round  9, metrics=<sparse_categorical_accuracy=0.9953568577766418,loss=0.016382349655032158>\n",
      "round 10, metrics=<sparse_categorical_accuracy=0.9956469535827637,loss=0.015872523188591003>\n",
      "round 11, metrics=<sparse_categorical_accuracy=0.9957320094108582,loss=0.01615039072930813>\n",
      "round 12, metrics=<sparse_categorical_accuracy=0.9957520365715027,loss=0.016464250162243843>\n",
      "round 13, metrics=<sparse_categorical_accuracy=0.995422899723053,loss=0.016938375309109688>\n",
      "round 14, metrics=<sparse_categorical_accuracy=0.9953938722610474,loss=0.01679661124944687>\n",
      "round 15, metrics=<sparse_categorical_accuracy=0.9951497316360474,loss=0.016538579016923904>\n"
     ]
    }
   ],
   "source": [
    "iterative_process = tff.learning.build_federated_averaging_process(model_fn)\n",
    "print(str(iterative_process.initialize.type_signature))\n",
    "state = iterative_process.initialize()\n",
    "\n",
    "state, metrics = iterative_process.next(state, federated_train_data)\n",
    "print('round  0, metrics={}'.format(metrics))\n",
    "NUM_ROUNDS = 16\n",
    "for round_num in range(1, NUM_ROUNDS):\n",
    "    state, metrics = iterative_process.next(state, federated_train_data)\n",
    "    print('round {:2d}, metrics={}'.format(round_num, metrics))"
   ]
  },
  {
   "cell_type": "code",
   "execution_count": 7,
   "metadata": {},
   "outputs": [
    {
     "data": {
      "text/plain": [
       "'<sparse_categorical_accuracy=0.7947388887405396,loss=1.2228577136993408>'"
      ]
     },
     "execution_count": 7,
     "metadata": {},
     "output_type": "execute_result"
    }
   ],
   "source": [
    "evaluation = tff.learning.build_federated_evaluation(model_fn)\n",
    "# str(evaluation.type_signature)\n",
    "train_metrics = evaluation(state.model, federated_test_data)\n",
    "str(train_metrics)\n"
   ]
  },
  {
   "cell_type": "code",
   "execution_count": 8,
   "metadata": {},
   "outputs": [],
   "source": [
    "# SEED = 0\n",
    "df = read_file(\"../dataset/allUsers.lcl.csv\")\n",
    "df = shuffle_df(df, SEED)\n",
    "averaging_methods = [Average.all,Average.std_dev,Average.weighted_avg]\n",
    "# df.head()"
   ]
  },
  {
   "cell_type": "code",
   "execution_count": 9,
   "metadata": {},
   "outputs": [
    {
     "name": "stdout",
     "output_type": "stream",
     "text": [
      "Initialising User instances...\n",
      "User 3 has no data, no instance created...\n",
      "13 User instances and a global user created!\n",
      "********************************  0   ********************************\n",
      "******************************** DONE ********************************\n",
      "********************************  1   ********************************\n",
      "******************************** DONE ********************************\n",
      "********************************  2   ********************************\n",
      "******************************** DONE ********************************\n",
      "********************************  3   ********************************\n",
      "******************************** DONE ********************************\n",
      "********************************  4   ********************************\n",
      "******************************** DONE ********************************\n",
      "********************************  5   ********************************\n",
      "******************************** DONE ********************************\n",
      "********************************  6   ********************************\n",
      "******************************** DONE ********************************\n",
      "********************************  7   ********************************\n",
      "******************************** DONE ********************************\n",
      "********************************  8   ********************************\n",
      "******************************** DONE ********************************\n",
      "********************************  9   ********************************\n",
      "******************************** DONE ********************************\n",
      "********************************  10  ********************************\n",
      "******************************** DONE ********************************\n",
      "********************************  11  ********************************\n",
      "******************************** DONE ********************************\n",
      "********************************  12  ********************************\n",
      "******************************** DONE ********************************\n",
      "********************************  13  ********************************\n",
      "******************************** DONE ********************************\n",
      "********************************  14  ********************************\n",
      "******************************** DONE ********************************\n",
      "********************************  15  ********************************\n",
      "******************************** DONE ********************************\n"
     ]
    }
   ],
   "source": [
    "DEVICE = '/cpu:0'\n",
    "ROUNDS = 16\n",
    "EPOCHS = 16 # 16 is good\n",
    "# forces tensorfor to the a particular device to run things\n",
    "with tf.device(DEVICE):\n",
    "#     averaging_methods = [Average.all]\n",
    "#      # return a dictionary of users with data\n",
    "    users_all, global_user = init_users(df = df, \n",
    "                                        averaging_methods = averaging_methods, \n",
    "                                        seed = SEED, test_size=0.2, val_size=0.0001)\n",
    "    train_fed(users = users_all, rounds = ROUNDS,\n",
    "              epochs = EPOCHS,\n",
    "              strat = \"central\",\n",
    "              train_user_verbose = False,\n",
    "              train_user_verbose_evaluate = False,\n",
    "              train_user_verbose_fit = False,\n",
    "              averaging_method = Average.all,\n",
    "              averaging_post = True,\n",
    "              averaging_metric = \"accuracy\")"
   ]
  },
  {
   "cell_type": "code",
   "execution_count": 10,
   "metadata": {},
   "outputs": [
    {
     "name": "stdout",
     "output_type": "stream",
     "text": [
      "All\n",
      "For central\n",
      "Final values for Pre-fit accuracy\n",
      "Position                   Pre\n",
      "Round                       15\n",
      "Average               0.761871\n",
      "Standard Deviation    0.187859\n",
      "Minimum                0.40404\n",
      "Maximum               0.979405\n",
      "Name: 30, dtype: object\n",
      "Final values for Post-fit accuracy\n",
      "Position                   Post\n",
      "Round                        15\n",
      "Average                0.966103\n",
      "Standard Deviation    0.0823354\n",
      "Minimum                 0.69697\n",
      "Maximum                       1\n",
      "Name: 31, dtype: object\n",
      "\n"
     ]
    },
    {
     "data": {
      "image/png": "[encoded data removed]",
      "text/plain": [
       "<Figure size 432x288 with 1 Axes>"
      ]
     },
     "metadata": {
      "needs_background": "light"
     },
     "output_type": "display_data"
    },
    {
     "name": "stdout",
     "output_type": "stream",
     "text": [
      "Final accuracy for Pre-fit data\n",
      "   User  Final Value\n",
      "1     0     0.785635\n",
      "3     1     0.722458\n",
      "5     2     0.746401\n",
      "7     4     0.460526\n",
      "9     5     0.489716\n",
      "11    6     0.894977\n",
      "13    7     0.404040\n",
      "15    8     0.769626\n",
      "17    9     0.859694\n",
      "19   10     0.908094\n",
      "21   11     0.978301\n",
      "23   12     0.905447\n",
      "25   13     0.979405\n",
      "Averaged: 0.7618708335436307\n",
      "\n",
      "Final accuracy for Post-fit data\n",
      "   User  Final Value\n",
      "0     0     0.991713\n",
      "2     1     0.995763\n",
      "4     2     0.994463\n",
      "6     4     0.894737\n",
      "8     5     0.999021\n",
      "10    6     1.000000\n",
      "12    7     0.696970\n",
      "14    8     0.996332\n",
      "16    9     0.998724\n",
      "18   10     0.997389\n",
      "20   11     0.996280\n",
      "22   12     0.997944\n",
      "24   13     1.000000\n",
      "Averaged: 0.9661027101370004\n",
      "\n"
     ]
    },
    {
     "data": {
      "image/png": "[encoded data removed]",
      "text/plain": [
       "<Figure size 432x288 with 1 Axes>"
      ]
     },
     "metadata": {
      "needs_background": "light"
     },
     "output_type": "display_data"
    },
    {
     "data": {
      "text/plain": [
       "<Figure size 432x288 with 0 Axes>"
      ]
     },
     "metadata": {},
     "output_type": "display_data"
    }
   ],
   "source": [
    "ignore_first_n = 0\n",
    "final_values = True\n",
    "\n",
    "\n",
    "\n",
    "print(\"All\")\n",
    "\n",
    "# print(\"For p2p\")\n",
    "\n",
    "\n",
    "# df_avg_round_stats_acc = avg_round_stats(users_all_2, \n",
    "#                                          ignore_first_n = ignore_first_n, \n",
    "#                                          min_max_fill = True, \n",
    "#                                          metric = \"accuracy\",\n",
    "#                                          final_values = final_values)\n",
    "# df_avg_user_stats_acc = avg_user_stats(users_all_2, \n",
    "#                                        ignore_first_n = ignore_first_n, \n",
    "#                                        min_max_fill = True, \n",
    "#                                        metric = \"accuracy\",\n",
    "#                                        final_values = final_values)\n",
    "print(\"For central\")\n",
    "\n",
    "\n",
    "df_avg_round_stats_acc = avg_round_stats(users_all, \n",
    "                                         ignore_first_n = ignore_first_n, \n",
    "                                         min_max_fill = True, \n",
    "                                         metric = \"accuracy\",\n",
    "                                         final_values = final_values)\n",
    "df_avg_user_stats_acc = avg_user_stats(users_all, \n",
    "                                       ignore_first_n = ignore_first_n, \n",
    "                                       min_max_fill = True, \n",
    "                                       metric = \"accuracy\",\n",
    "                                       final_values = final_values)"
   ]
  },
  {
   "cell_type": "code",
   "execution_count": null,
   "metadata": {},
   "outputs": [],
   "source": []
  },
  {
   "cell_type": "code",
   "execution_count": null,
   "metadata": {},
   "outputs": [],
   "source": []
  },
  {
   "cell_type": "code",
   "execution_count": null,
   "metadata": {},
   "outputs": [],
   "source": []
  },
  {
   "cell_type": "code",
   "execution_count": null,
   "metadata": {},
   "outputs": [],
   "source": []
  },
  {
   "cell_type": "code",
   "execution_count": null,
   "metadata": {},
   "outputs": [],
   "source": []
  },
  {
   "cell_type": "code",
   "execution_count": null,
   "metadata": {},
   "outputs": [],
   "source": []
  },
  {
   "cell_type": "code",
   "execution_count": null,
   "metadata": {},
   "outputs": [],
   "source": []
  },
  {
   "cell_type": "code",
   "execution_count": null,
   "metadata": {},
   "outputs": [],
   "source": []
  },
  {
   "cell_type": "code",
   "execution_count": null,
   "metadata": {},
   "outputs": [],
   "source": []
  }
 ],
 "metadata": {
  "kernelspec": {
   "display_name": "Python 3",
   "language": "python",
   "name": "python3"
  },
  "language_info": {
   "codemirror_mode": {
    "name": "ipython",
    "version": 3
   },
   "file_extension": ".py",
   "mimetype": "text/x-python",
   "name": "python",
   "nbconvert_exporter": "python",
   "pygments_lexer": "ipython3",
   "version": "3.7.4"
  }
 },
 "nbformat": 4,
 "nbformat_minor": 4
}
